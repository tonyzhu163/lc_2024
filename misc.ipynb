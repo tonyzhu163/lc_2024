{
 "cells": [
  {
   "cell_type": "code",
   "execution_count": null,
   "metadata": {},
   "outputs": [],
   "source": []
  },
  {
   "cell_type": "code",
   "execution_count": null,
   "metadata": {},
   "outputs": [],
   "source": []
  },
  {
   "cell_type": "code",
   "execution_count": null,
   "metadata": {},
   "outputs": [],
   "source": []
  },
  {
   "cell_type": "code",
   "execution_count": null,
   "metadata": {},
   "outputs": [],
   "source": []
  },
  {
   "cell_type": "code",
   "execution_count": null,
   "metadata": {},
   "outputs": [],
   "source": [
    "# k closest points to origin\n",
    "# heap + distance\n",
    "\n",
    "import heapq\n",
    "\n",
    "class Solution:\n",
    "    def kClosest(self, points: List[List[int]], k: int) -> List[List[int]]:\n",
    "        heap = []\n",
    "        res = []\n",
    "        \n",
    "        for x,y in points:\n",
    "            heapq.heappush(heap, (x**2+y**2, x, y))\n",
    "        \n",
    "        for _ in range(k):\n",
    "            tmp = heapq.heappop(heap)\n",
    "            res.append((tmp[1], tmp[2]))\n",
    "            \n",
    "        return res\n",
    "        "
   ]
  },
  {
   "cell_type": "code",
   "execution_count": null,
   "metadata": {},
   "outputs": [],
   "source": [
    "# top k frequent\n",
    "# heap + counter + boilerplate\n",
    "\n",
    "from collections import Counter\n",
    "import heapq\n",
    "\n",
    "class Solution:\n",
    "    def topKFrequent(self, nums: List[int], k: int) -> List[int]:\n",
    "        counts = Counter(nums)\n",
    "        heap = []\n",
    "\n",
    "        for val, freq in counts.items():\n",
    "            heapq.heappush(heap, (freq, val))\n",
    "\n",
    "            if len(heap) > k:\n",
    "                heapq.heappop(heap)\n",
    "        \n",
    "        res = []\n",
    "        \n",
    "        while heap:\n",
    "            res.append(heapq.heappop(heap)[1])\n",
    "        return res[::-1]"
   ]
  },
  {
   "cell_type": "code",
   "execution_count": null,
   "metadata": {},
   "outputs": [],
   "source": [
    "# Rotate Image\n",
    "\n",
    "# be smart\n",
    "# transpose is easier to do\n",
    "\n",
    "class Solution:\n",
    "    def rotate(self, matrix: List[List[int]]) -> None:\n",
    "        \"\"\"\n",
    "        Do not return anything, modify matrix in-place instead.\n",
    "        \"\"\"\n",
    "        \n",
    "        n = len(matrix)\n",
    "        \n",
    "        # transpose\n",
    "        \n",
    "        for i in range(n):\n",
    "            for j in range(i+1, n):\n",
    "                matrix[i][j], matrix[j][i] = matrix[j][i], matrix[i][j]\n",
    "        \n",
    "        # swap cols by reversing every row\n",
    "        for i in range(n):\n",
    "            matrix[i] = matrix[i][::-1]"
   ]
  },
  {
   "cell_type": "code",
   "execution_count": null,
   "metadata": {},
   "outputs": [],
   "source": []
  }
 ],
 "metadata": {
  "kernelspec": {
   "display_name": "torch",
   "language": "python",
   "name": "python3"
  },
  "language_info": {
   "codemirror_mode": {
    "name": "ipython",
    "version": 3
   },
   "file_extension": ".py",
   "mimetype": "text/x-python",
   "name": "python",
   "nbconvert_exporter": "python",
   "pygments_lexer": "ipython3",
   "version": "3.9.6"
  }
 },
 "nbformat": 4,
 "nbformat_minor": 2
}
