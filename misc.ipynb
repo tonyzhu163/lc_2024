{
 "cells": [
  {
   "cell_type": "code",
   "execution_count": null,
   "metadata": {},
   "outputs": [],
   "source": [
    "# Longest Increasing Subarray\n",
    "\n",
    "# we know\n",
    "# refresh cnt to 1\n",
    "# else cnt += 1\n",
    "\n",
    "class Solution:\n",
    "    def findLengthOfLCIS(self, nums: List[int]) -> int:\n",
    "        n = len(nums)\n",
    "        cnt = 1\n",
    "        res = 1\n",
    "        \n",
    "        for i in range(1, n):\n",
    "            if nums[i] > nums[i-1]:\n",
    "                cnt += 1\n",
    "                res = max(res, cnt)\n",
    "            else:\n",
    "                cnt = 1\n",
    "        \n",
    "        return res\n"
   ]
  },
  {
   "cell_type": "code",
   "execution_count": null,
   "metadata": {},
   "outputs": [],
   "source": [
    "# Longest Increasing Subsequence\n",
    "\n",
    "## lets say given a correct dp[0] -> dp[4], how to get dp[5]?\n",
    "# you need to search for a max that already exists\n",
    "\n",
    "def lengthOfLIS(self, nums: List[int]) -> int:\n",
    "    n = len(nums)\n",
    "    \n",
    "    dp = [1] * n\n",
    "    \n",
    "    for i in range(n):\n",
    "        for j in range(i):\n",
    "            if nums[i] > nums[j]:\n",
    "                dp[i] = max(dp[i], dp[j] + 1)\n",
    "    \n",
    "    return max(dp)"
   ]
  },
  {
   "cell_type": "code",
   "execution_count": null,
   "metadata": {},
   "outputs": [],
   "source": [
    "## Longest Increasing Path in a Matrix"
   ]
  },
  {
   "cell_type": "code",
   "execution_count": null,
   "metadata": {},
   "outputs": [],
   "source": [
    "## Evaluate Reverse Polish Notation\n",
    "\n",
    "# just use a stack\n",
    "# rest is boiler plate\n",
    "\n",
    "class Solution:\n",
    "    def evalRPN(self, tokens: List[str]) -> int:\n",
    "        stack = []\n",
    "        \n",
    "        for e in tokens:\n",
    "            if e == '+':\n",
    "                x = stack.pop()\n",
    "                y = stack.pop()\n",
    "                stack.append(x+y)\n",
    "            elif e == '-':\n",
    "                x = stack.pop()\n",
    "                y = stack.pop()\n",
    "                stack.append(y-x)\n",
    "            elif e == '*':\n",
    "                x = stack.pop()\n",
    "                y = stack.pop()\n",
    "                stack.append(x*y)\n",
    "            elif e == '/':\n",
    "                x = stack.pop()\n",
    "                y = stack.pop()\n",
    "                stack.append(int(y/x))\n",
    "            else:\n",
    "                stack.append(int(e))\n",
    "        \n",
    "        return stack[0]"
   ]
  },
  {
   "cell_type": "code",
   "execution_count": null,
   "metadata": {},
   "outputs": [],
   "source": [
    "# k closest points to origin\n",
    "# heap + distance\n",
    "\n",
    "import heapq\n",
    "\n",
    "class Solution:\n",
    "    def kClosest(self, points: List[List[int]], k: int) -> List[List[int]]:\n",
    "        heap = []\n",
    "        res = []\n",
    "        \n",
    "        for x,y in points:\n",
    "            heapq.heappush(heap, (x**2+y**2, x, y))\n",
    "        \n",
    "        for _ in range(k):\n",
    "            tmp = heapq.heappop(heap)\n",
    "            res.append((tmp[1], tmp[2]))\n",
    "            \n",
    "        return res\n",
    "        "
   ]
  },
  {
   "cell_type": "code",
   "execution_count": null,
   "metadata": {},
   "outputs": [],
   "source": [
    "# top k frequent\n",
    "# heap + counter + boilerplate\n",
    "\n",
    "from collections import Counter\n",
    "import heapq\n",
    "\n",
    "class Solution:\n",
    "    def topKFrequent(self, nums: List[int], k: int) -> List[int]:\n",
    "        counts = Counter(nums)\n",
    "        heap = []\n",
    "\n",
    "        for val, freq in counts.items():\n",
    "            heapq.heappush(heap, (freq, val))\n",
    "\n",
    "            if len(heap) > k:\n",
    "                heapq.heappop(heap)\n",
    "        \n",
    "        res = []\n",
    "        \n",
    "        while heap:\n",
    "            res.append(heapq.heappop(heap)[1])\n",
    "        return res[::-1]"
   ]
  }
 ],
 "metadata": {
  "kernelspec": {
   "display_name": "torch",
   "language": "python",
   "name": "python3"
  },
  "language_info": {
   "codemirror_mode": {
    "name": "ipython",
    "version": 3
   },
   "file_extension": ".py",
   "mimetype": "text/x-python",
   "name": "python",
   "nbconvert_exporter": "python",
   "pygments_lexer": "ipython3",
   "version": "3.9.6"
  }
 },
 "nbformat": 4,
 "nbformat_minor": 2
}
