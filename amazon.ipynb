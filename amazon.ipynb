{
 "cells": [
  {
   "cell_type": "code",
   "execution_count": null,
   "metadata": {},
   "outputs": [],
   "source": [
    "from collections import defaultdict\n",
    "from collections import Counter\n",
    "\n",
    "import heapq\n",
    "import sys"
   ]
  },
  {
   "cell_type": "code",
   "execution_count": 97,
   "metadata": {},
   "outputs": [
    {
     "name": "stdout",
     "output_type": "stream",
     "text": [
      "7\n"
     ]
    }
   ],
   "source": [
    "## make power non decreasing\n",
    "\n",
    "def power(arr):\n",
    "    if (arr is None or len(arr) == 1):\n",
    "        return 0\n",
    "    \n",
    "    n = len(arr)\n",
    "    min_power = 0\n",
    "\n",
    "    for i in range(n):\n",
    "        arr[i] += min_power\n",
    "        if arr[i-1] > arr[i]:\n",
    "            min_power += arr[i-1] - arr[i]\n",
    "            arr[i] = arr[i-1]\n",
    "\n",
    "    return min_power\n",
    "\n",
    "print(power([3, 4, 1, 6, 2]))\n"
   ]
  },
  {
   "cell_type": "code",
   "execution_count": 98,
   "metadata": {},
   "outputs": [],
   "source": [
    "# maximum balanced shipments\n",
    "\n",
    "def ship(arr):\n",
    "    if (arr is None or len(arr) == 1):\n",
    "        return 0\n",
    "    \n",
    "    max_weight = -1\n",
    "    ship = 0\n",
    "\n",
    "    for a in arr:\n",
    "        if a < max_weight:\n",
    "            ship += 1\n",
    "            max_weight = -1\n",
    "        else:\n",
    "            max_weight = max(max_weight, a)\n",
    "    \n",
    "    if max_weight != -1 and arr[-1] != max_weight:\n",
    "        ship += 1\n",
    "    \n",
    "    return ship"
   ]
  },
  {
   "cell_type": "code",
   "execution_count": 12,
   "metadata": {},
   "outputs": [
    {
     "name": "stdout",
     "output_type": "stream",
     "text": [
      "abbba\n",
      "xyyx\n",
      "ded\n"
     ]
    }
   ],
   "source": [
    "## find encrypted password\n",
    "\n",
    "def find(pwd):\n",
    "    n = len(pwd)\n",
    "    d = defaultdict(int)\n",
    "    res = ''\n",
    "    mid = None\n",
    "\n",
    "    for p in pwd:\n",
    "        d[p] += 1\n",
    "    \n",
    "    arr = sorted(d.keys(), reverse=True)\n",
    "\n",
    "    for ch in arr:\n",
    "        while d[ch] >= 2:\n",
    "            res = ch + res + ch\n",
    "            d[ch] -= 2\n",
    "        \n",
    "        if d[ch] == 1:\n",
    "            mid = ch\n",
    "            d[ch] -= 1\n",
    "    \n",
    "    if mid:\n",
    "        mid_idx = n // 2\n",
    "        res = res[:mid_idx] + mid + res[mid_idx:]\n",
    "\n",
    "    return res\n",
    "\n",
    "print(find('babab'))\n",
    "print(find('yxxy'))\n",
    "print(find('ded'))"
   ]
  },
  {
   "cell_type": "code",
   "execution_count": 100,
   "metadata": {},
   "outputs": [
    {
     "name": "stdout",
     "output_type": "stream",
     "text": [
      "12\n",
      "54\n",
      "20\n"
     ]
    }
   ],
   "source": [
    "## total area of rectangles\n",
    "\n",
    "def area(arr):\n",
    "    pairs = []\n",
    "    freq = Counter(arr)\n",
    "    \n",
    "    for leng in sorted(freq.keys(), reverse=True):\n",
    "        while freq[leng] >= 2:\n",
    "            freq[leng] -= 2\n",
    "            pairs.append(leng)\n",
    "\n",
    "        if freq[leng] == 1 and freq.get(leng-1, 0) > 0:\n",
    "            freq[leng] -= 1\n",
    "            freq[leng-1] -= 1\n",
    "            pairs.append(leng-1)\n",
    "\n",
    "    pairs.sort(reverse=True)\n",
    "    \n",
    "    area = 0\n",
    "\n",
    "    for i in range(1, len(pairs), 2):\n",
    "        area += pairs[i] * pairs[i-1]\n",
    "    \n",
    "    return area\n",
    "        \n",
    "print(area([2, 6, 2, 6, 3, 5]))\n",
    "print(area([2, 3, 3, 4, 6, 8, 8, 6]))\n",
    "print(area([3, 4, 5, 5, 6]))"
   ]
  },
  {
   "cell_type": "code",
   "execution_count": 101,
   "metadata": {},
   "outputs": [
    {
     "name": "stdout",
     "output_type": "stream",
     "text": [
      "1\n",
      "2\n",
      "5\n"
     ]
    }
   ],
   "source": [
    "## reduce gifts\n",
    "\n",
    "def gift(arr, k, threshold):\n",
    "    n = len(arr)\n",
    "\n",
    "    if arr is None or n < k:\n",
    "        return 0\n",
    "\n",
    "    arr = sorted(arr)\n",
    "\n",
    "    cur = sum(arr[-k:])\n",
    "    if cur <= threshold:\n",
    "        return 0\n",
    "    \n",
    "    if sum(arr[:k]) > threshold:\n",
    "        return n - (k-1)\n",
    "    \n",
    "    remove = 0\n",
    "\n",
    "    while cur > threshold and len(arr) > k:\n",
    "        cur -= arr.pop()\n",
    "        if len(arr) >= k:\n",
    "            cur += arr[-k]\n",
    "\n",
    "        remove += 1\n",
    "\n",
    "    return remove\n",
    "\n",
    "print(gift([3, 2, 1, 4, 6, 5], 3, 14))\n",
    "print(gift([9, 6, 7, 2, 7, 2], 2, 13))\n",
    "print(gift([9, 6, 3, 2, 9, 10, 10, 11], 4, 1))"
   ]
  },
  {
   "cell_type": "code",
   "execution_count": 102,
   "metadata": {},
   "outputs": [
    {
     "name": "stdout",
     "output_type": "stream",
     "text": [
      "9\n"
     ]
    }
   ],
   "source": [
    "## minimum total errors\n",
    "\n",
    "def errors(s, x, y):\n",
    "    n = len(s)\n",
    "    \n",
    "    dp = [[sys.maxsize] * (n+1) for _ in range(n+1)]\n",
    "        \n",
    "    dp[0][0] = 0\n",
    "    \n",
    "    for i in range(1, n+1):\n",
    "        for j in range(i+1):\n",
    "            if s[i-1] == '0' or s[i-1] == '!':\n",
    "                dp[i][j] = min(dp[i][j], dp[i-1][j] + j*y)\n",
    "            if s[i-1] == '1' or s[i-1] == '!':\n",
    "                if j > 0:\n",
    "                    dp[i][j] = min(dp[i][j], dp[i-1][j-1] + x*(i-j))\n",
    "\n",
    "    return min(dp[n])\n",
    "\n",
    "\n",
    "print(errors('101!1', 2, 3))"
   ]
  },
  {
   "cell_type": "code",
   "execution_count": 5,
   "metadata": {},
   "outputs": [
    {
     "name": "stdout",
     "output_type": "stream",
     "text": [
      "5\n"
     ]
    }
   ],
   "source": [
    "## number of idle drives/ robots\n",
    "\n",
    "def idle(xs, ys):\n",
    "    count = 0\n",
    "\n",
    "    coord = [*zip(xs, ys)]\n",
    "\n",
    "    for x, y in coord:\n",
    "        ## find the max on each dim with the same y or x\n",
    "        x_min = list(filter(lambda a: x > a[0] and y == a[1], coord))\n",
    "        x_max = list(filter(lambda a: x < a[0] and y == a[1], coord))\n",
    "        y_max = list(filter(lambda a: y > a[1] and x == a[0], coord))\n",
    "        y_min = list(filter(lambda a: y < a[1] and x == a[0], coord))\n",
    "\n",
    "        ## current coordinate has neighbors\n",
    "        if x_min and x_max and y_min and y_max:\n",
    "            count += 1\n",
    "\n",
    "    return count \n",
    "\n",
    "\n",
    "print(idle([0, 0, 0, 0, 0, 1, 1, 1, 2, -1, -1, -2, -1], [-1, 0, 1, 2, -2, 0, 1, -1, 0, 1, -1, 0, 0]))"
   ]
  },
  {
   "cell_type": "code",
   "execution_count": 2,
   "metadata": {},
   "outputs": [],
   "source": [
    "## reverse binary\n",
    "\n",
    "## just remove all the ones not in the LCS\n",
    "\n",
    "def lcs(s1, s2):\n",
    "    n = len(s1)\n",
    "    m = len(s2)\n",
    "\n",
    "    dp = [[0] * (m+1) for _ in range(n+1)]\n",
    "\n",
    "    for i in range(1, n+1):\n",
    "        for j in range(1, m+1):\n",
    "            if s1[i-1] == s2[j-1]:\n",
    "                dp[i][j] = 1 + dp[i-1][j-1]\n",
    "            else:\n",
    "                dp[i][j] = max(dp[i-1][j], dp[i][j-1])\n",
    "\n",
    "    print(dp)\n",
    "\n",
    "    return dp[n][m]\n",
    "\n",
    "def reverse(n):\n",
    "    rev_n  = n[::-1]\n",
    "\n",
    "    common = lcs(n, rev_n)\n",
    "\n",
    "    return len(n) - common"
   ]
  },
  {
   "cell_type": "code",
   "execution_count": null,
   "metadata": {},
   "outputs": [],
   "source": [
    "## channels max quality\n",
    "\n",
    "# def channel(packets, n):\n",
    "\n",
    "\n",
    "# print(channel([1, 2, 3, 4, 5], 2))"
   ]
  },
  {
   "cell_type": "code",
   "execution_count": 10,
   "metadata": {},
   "outputs": [
    {
     "name": "stdout",
     "output_type": "stream",
     "text": [
      "3\n"
     ]
    }
   ],
   "source": [
    "## maximize negative signs\n",
    "\n",
    "## using a heap\n",
    "\n",
    "## README may be wrong\n",
    "\n",
    "def maximize(arr):\n",
    "    c_sum = 0\n",
    "    res = 0\n",
    "\n",
    "    heap = []\n",
    "    \n",
    "    for n in arr:\n",
    "        if c_sum - n > 0:\n",
    "            c_sum -= n\n",
    "            heapq.heappush(heap, -n)\n",
    "            res += 1\n",
    "        else:\n",
    "            c_sum += n\n",
    "        \n",
    "        while c_sum <= 0 and heap:\n",
    "            small = heapq.heappop(heap)\n",
    "            c_sum += small * 2\n",
    "            res -= 1\n",
    "    \n",
    "    return res\n",
    "\n",
    "print(maximize([3, 2, 1, 1, 1, 1]))\n"
   ]
  },
  {
   "cell_type": "code",
   "execution_count": 16,
   "metadata": {},
   "outputs": [
    {
     "name": "stdout",
     "output_type": "stream",
     "text": [
      "42\n"
     ]
    }
   ],
   "source": [
    "## get total requests\n",
    "\n",
    "def requests(server, replace, new):\n",
    "    n = len(server)\n",
    "    res = [0] * n\n",
    "\n",
    "    d = defaultdict(int)\n",
    "    for s in server:\n",
    "        d[s] += 1\n",
    "\n",
    "    for i in range(n):\n",
    "        old_id = replace[i]\n",
    "        new_id = new[i]\n",
    "\n",
    "        old_count = d[old_id]\n",
    "        d[old_id] = 0 \n",
    "        d[new_id] += old_count\n",
    "        \n",
    "        total = 0\n",
    "        for k,v in d.items():\n",
    "            total += k * v\n",
    "\n",
    "        res[i] = total\n",
    "\n",
    "    return sum(res)\n",
    "\n",
    "print(requests([20, 10], [10, 20], [20, 1]))\n"
   ]
  },
  {
   "cell_type": "code",
   "execution_count": null,
   "metadata": {},
   "outputs": [],
   "source": []
  }
 ],
 "metadata": {
  "kernelspec": {
   "display_name": "cs1410_env",
   "language": "python",
   "name": "python3"
  },
  "language_info": {
   "codemirror_mode": {
    "name": "ipython",
    "version": 3
   },
   "file_extension": ".py",
   "mimetype": "text/x-python",
   "name": "python",
   "nbconvert_exporter": "python",
   "pygments_lexer": "ipython3",
   "version": "3.10.9"
  }
 },
 "nbformat": 4,
 "nbformat_minor": 2
}
