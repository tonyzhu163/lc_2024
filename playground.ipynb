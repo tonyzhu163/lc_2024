{
 "cells": [
  {
   "cell_type": "code",
   "execution_count": 4,
   "metadata": {},
   "outputs": [
    {
     "name": "stdout",
     "output_type": "stream",
     "text": [
      "[]\n",
      "[4, 3, 2, 1]\n"
     ]
    }
   ],
   "source": [
    "from collections import deque\n",
    "\n",
    "class Solution:\n",
    "    def __init__(self):\n",
    "        pass\n",
    "        \n",
    "    def get_num_vertices(self, lst_of_depen):\n",
    "        seen = set()\n",
    "        \n",
    "        for a, b in lst_of_depen:\n",
    "            seen.add(a)\n",
    "            seen.add(b)\n",
    "                \n",
    "        return len(seen)\n",
    "        \n",
    "    # 2D list represents adjacency graph\n",
    "    def build_graph(self, lst_of_depen, V):\n",
    "        self.graph = [[] for _ in range(V)]\n",
    "        self.inorder = [0] * V\n",
    "        \n",
    "        for a, b in lst_of_depen:\n",
    "            a, b = a - 1, b - 1  # adjust for 0-based indexing\n",
    "            self.graph[b].append(a)\n",
    "            self.inorder[a] += 1\n",
    "    \n",
    "    # Kahns algorithm\n",
    "    def find(self, lst_of_depen):\n",
    "        V = self.get_num_vertices(lst_of_depen)\n",
    "        res = []\n",
    "        \n",
    "        # Initialize structs\n",
    "        self.build_graph(lst_of_depen, V)\n",
    "        \n",
    "        q = deque()\n",
    "        \n",
    "        for node, in_degree in enumerate(self.inorder):\n",
    "            if in_degree == 0:\n",
    "                q.append(node)\n",
    "        \n",
    "        count = 0\n",
    "        while q:\n",
    "            node = q.popleft()\n",
    "            res.append(node + 1)  # adjust for 1-based indexing\n",
    "            count += 1\n",
    "            \n",
    "            for nei in self.graph[node]:\n",
    "                self.inorder[nei] -= 1\n",
    "                if self.inorder[nei] == 0:\n",
    "                    q.append(nei)\n",
    "                    \n",
    "        if count != V:\n",
    "            return []\n",
    "        else:\n",
    "            return res\n",
    "        \n",
    "test = Solution()\n",
    "\n",
    "# There is a cycle so return nothing\n",
    "print(test.find([(1, 2), (2, 1)]))  # expects []\n",
    "\n",
    "# Expects [1, 2, 3, 4]\n",
    "print(test.find([[1, 2], [2, 3], [3, 4]]))\n"
   ]
  },
  {
   "cell_type": "code",
   "execution_count": null,
   "metadata": {},
   "outputs": [],
   "source": []
  }
 ],
 "metadata": {
  "kernelspec": {
   "display_name": "torch",
   "language": "python",
   "name": "python3"
  },
  "language_info": {
   "codemirror_mode": {
    "name": "ipython",
    "version": 3
   },
   "file_extension": ".py",
   "mimetype": "text/x-python",
   "name": "python",
   "nbconvert_exporter": "python",
   "pygments_lexer": "ipython3",
   "version": "3.10.9"
  }
 },
 "nbformat": 4,
 "nbformat_minor": 2
}
