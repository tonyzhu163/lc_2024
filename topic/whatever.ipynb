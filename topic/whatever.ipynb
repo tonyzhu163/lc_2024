{
 "cells": [
  {
   "cell_type": "code",
   "execution_count": 29,
   "metadata": {},
   "outputs": [],
   "source": [
    "## Whatever first search\n",
    "\n",
    "# Pick a starting node\n",
    "# Add the starting node to a \"bag\" (arbitrary data structure)\n",
    "# While the bag isn't empty:\n",
    "#     Take a node out of the bag\n",
    "#     Mark this node as \"explored\"\n",
    "#     [Do whatever you like with this node]\n",
    "#     Add all this node's unexplored neighbors to the bag \n",
    "\n",
    "from collections import deque\n",
    "\n",
    "def bfs(G,  start):\n",
    "    res = []\n",
    "    visited = set()\n",
    "    queue = deque([start])\n",
    "    visited.add(start)\n",
    "\n",
    "    while queue:\n",
    "        ele = queue.popleft()\n",
    "        res.append(ele)\n",
    "        for nei in G[ele]:\n",
    "            if nei not in visited:\n",
    "                queue.append(nei)\n",
    "                visited.add(nei)\n",
    "\n",
    "    return res\n",
    "    \n",
    "def dfs(G, start):\n",
    "    res = []\n",
    "    visited = set()\n",
    "    stack = [start]\n",
    "    visited.add(start)\n",
    "\n",
    "    while stack:\n",
    "        ele = stack.pop()\n",
    "        res.append(ele)\n",
    "        for nei in G[ele]:\n",
    "            if nei not in visited:\n",
    "                stack.append(nei)\n",
    "                visited.add(nei)\n",
    "\n",
    "    return res\n",
    "\n",
    "# stack LIFO (DFS) a stack of plates\n",
    "# queue FIFO (BFS)\n",
    "# priority queue Best first search"
   ]
  },
  {
   "cell_type": "code",
   "execution_count": 30,
   "metadata": {},
   "outputs": [
    {
     "name": "stdout",
     "output_type": "stream",
     "text": [
      "[0, 1, 2, 3, 4]\n",
      "[0, 2, 4, 1, 3]\n"
     ]
    }
   ],
   "source": [
    "def addEdge(adjList, u, v):\n",
    "    adjList[u].append(v)\n",
    "\n",
    "adjList = [[] for _ in range(5)]\n",
    "\n",
    "addEdge(adjList, 0, 1)\n",
    "addEdge(adjList, 0, 2)\n",
    "addEdge(adjList, 1, 3)\n",
    "addEdge(adjList, 1, 4)\n",
    "addEdge(adjList, 2, 4)\n",
    "\n",
    "print(bfs(adjList, 0))\n",
    "print(dfs(adjList, 0))"
   ]
  },
  {
   "cell_type": "code",
   "execution_count": null,
   "metadata": {},
   "outputs": [],
   "source": []
  }
 ],
 "metadata": {
  "kernelspec": {
   "display_name": "torch",
   "language": "python",
   "name": "python3"
  },
  "language_info": {
   "codemirror_mode": {
    "name": "ipython",
    "version": 3
   },
   "file_extension": ".py",
   "mimetype": "text/x-python",
   "name": "python",
   "nbconvert_exporter": "python",
   "pygments_lexer": "ipython3",
   "version": "3.10.9"
  }
 },
 "nbformat": 4,
 "nbformat_minor": 2
}
