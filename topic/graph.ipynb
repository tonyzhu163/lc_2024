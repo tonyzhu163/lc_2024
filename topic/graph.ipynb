{
 "cells": [
  {
   "cell_type": "code",
   "execution_count": null,
   "metadata": {},
   "outputs": [],
   "source": [
    "from typing import Optional\n",
    "from collections import deque"
   ]
  },
  {
   "cell_type": "code",
   "execution_count": null,
   "metadata": {},
   "outputs": [],
   "source": [
    "# max area of island \n",
    "# DFS\n",
    "\n",
    "def maxAreaOfIsland(self, grid: List[List[int]]) -> int:\n",
    "    x, y = len(grid), len(grid[0])\n",
    "    visit = set()\n",
    "\n",
    "    def search(i, j):\n",
    "        if (\n",
    "            i < 0 or \n",
    "            j < 0 or \n",
    "            i == x or \n",
    "            j == y or\n",
    "            grid[i][j] == 0 or\n",
    "            (i, j) in visit\n",
    "        ): \n",
    "            return 0\n",
    "        else:\n",
    "            visit.add((i, j))\n",
    "            return 1 + search(i+1, j) + search(i, j+1) + search(i-1, j) + search(i ,j-1)\n",
    "\n",
    "    area = 0\n",
    "\n",
    "    for i in range(x):\n",
    "        for j in range(y):\n",
    "            area = max(area, search(i, j))\n",
    "\n",
    "    return area"
   ]
  },
  {
   "cell_type": "code",
   "execution_count": null,
   "metadata": {},
   "outputs": [],
   "source": [
    "# rotting oranges\n",
    "# BFS\n",
    "\n",
    "def orangesRotting(self, grid: List[List[int]]) -> int:\n",
    "    time = 0\n",
    "    fresh = 0\n",
    "    q = deque()\n",
    "    \n",
    "    max_x, max_y = len(grid), len(grid[0])\n",
    "\n",
    "    for i in range(max_x):\n",
    "        for j in range(max_y):\n",
    "            if grid[i][j] == 1:\n",
    "                fresh += 1\n",
    "            if grid[i][j] == 2:\n",
    "                q.append((i, j))\n",
    "\n",
    "    while q and fresh > 0:\n",
    "        for _ in range(len(q)):\n",
    "            i, j = q.popleft()\n",
    "\n",
    "            for x,y in [(1, 0), (-1, 0), (0, 1), (0, -1)]:\n",
    "                new_x = i+x\n",
    "                new_y = j+y\n",
    "\n",
    "                if (\n",
    "                    new_x in range(max_x) and\n",
    "                    new_y in range(max_y) and\n",
    "                    grid[new_x][new_y] == 1\n",
    "                ):\n",
    "                    grid[new_x][new_y] = 2\n",
    "                    q.append((new_x, new_y))\n",
    "                    fresh -= 1\n",
    "        \n",
    "        time += 1\n",
    "    \n",
    "    return time if fresh == 0 else -1"
   ]
  },
  {
   "cell_type": "code",
   "execution_count": null,
   "metadata": {},
   "outputs": [],
   "source": [
    "# 01 mat\n",
    "# just use BFS, since each tile is deeply connected to each other\n",
    "\n",
    "def dist(matrix):\n",
    "    n, m = len(matrix), len(matrix[0])\n",
    "    \n",
    "    res = [[-1 for _ in range(m)] for _ in range(n)]\n",
    "\n",
    "    q = deque()\n",
    "\n",
    "    for i in range(n):\n",
    "        for j in range(m):\n",
    "            if matrix[i][j] == 0:\n",
    "                q.append((i, j))\n",
    "                res[i][j] = 0\n",
    "    \n",
    "    dirs = [(0, 1), (0, -1), (1, 0), (-1, 0)]\n",
    "    while q:\n",
    "        x, y = q.popleft()\n",
    "        for dx, dy in dirs:\n",
    "            next_x, next_y = x + dx, y + dy\n",
    "            if 0 <= next_x < n and 0 <= next_y < m and res[next_x][next_y] == -1:\n",
    "                res[next_x][next_y] = res[x][y] + 1\n",
    "                q.append((next_x, next_y))\n",
    "    \n",
    "    return res"
   ]
  },
  {
   "cell_type": "code",
   "execution_count": null,
   "metadata": {},
   "outputs": [],
   "source": [
    "## Number of Islands\n",
    "\n",
    "# loop through every cell\n",
    "# have a visited\n",
    "# do DFS everytime you see a 1"
   ]
  },
  {
   "cell_type": "code",
   "execution_count": null,
   "metadata": {},
   "outputs": [],
   "source": [
    "# word ladder\n",
    "# BFS (its a shortest path problem)\n",
    "\n"
   ]
  }
 ],
 "metadata": {
  "language_info": {
   "name": "python"
  }
 },
 "nbformat": 4,
 "nbformat_minor": 2
}
