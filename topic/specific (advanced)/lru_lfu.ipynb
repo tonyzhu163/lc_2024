{
 "cells": [
  {
   "cell_type": "code",
   "execution_count": null,
   "metadata": {},
   "outputs": [],
   "source": [
    "# we need get and put to be O(1)\n",
    "# need sequencing\n",
    "\n",
    "# doubly linkedlist + hashmap\n",
    "# this is an ordered dict\n",
    "\n",
    "class Node:\n",
    "    def __init__(self, k: int, v: int):\n",
    "        self.key = k\n",
    "        self.val = v\n",
    "        self.next = None\n",
    "        self.prev = None\n",
    "\n",
    "# "
   ]
  },
  {
   "cell_type": "code",
   "execution_count": null,
   "metadata": {},
   "outputs": [],
   "source": [
    "# LRU with ordered dict\n",
    "\n",
    "from collections import OrderedDict\n",
    "\n",
    "class LRUCache:\n",
    "    def __init__(self, capacity):\n",
    "        self.capacity = capacity\n",
    "        self.cache = OrderedDict()\n",
    "\n",
    "    def get(self, key):\n",
    "        if key not in self.cache:\n",
    "            return -1\n",
    "        \n",
    "        self.cache.move_to_end(key)\n",
    "        return self.cache[key]\n",
    "    \n",
    "    def put(self, key, value):\n",
    "        if key in self.cache:\n",
    "            self.cache.move_to_end(key)\n",
    "        self.cache[key] = value\n",
    "    \n",
    "        if len(self.cache) > self.capacity:\n",
    "            self.cache.popitem(last=False)\n",
    "            "
   ]
  },
  {
   "cell_type": "code",
   "execution_count": null,
   "metadata": {},
   "outputs": [],
   "source": [
    "# LFU\n",
    "\n",
    "# we need a frequency map (store all the keys with same frequency)\n",
    "# we need a ordered dict for key -> (freq, val) pair (this could potentially be split into two more hashmaps)\n",
    "\n",
    "from collections import defaultdict, OrderedDict\n",
    "\n",
    "class LFUCache:\n",
    "    def __init__(self, capacity: int):\n",
    "        self.capacity = capacity\n",
    "        self.min_freq = 0\n",
    "        self.key_to_val = {}\n",
    "        self.key_to_freq = {}\n",
    "        self.freq_to_keys = defaultdict(OrderedDict)\n",
    "\n",
    "    def get(self, key):\n",
    "        pass\n",
    "\n",
    "    def put(self, key, val):\n",
    "        "
   ]
  }
 ],
 "metadata": {
  "language_info": {
   "name": "python"
  }
 },
 "nbformat": 4,
 "nbformat_minor": 2
}
