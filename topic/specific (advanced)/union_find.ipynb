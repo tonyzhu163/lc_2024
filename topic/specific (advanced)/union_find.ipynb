{
 "cells": [
  {
   "cell_type": "code",
   "execution_count": null,
   "metadata": {},
   "outputs": [],
   "source": [
    "# number of connected components in a graph\n",
    "# naive -> dfs on every node, skip visited O(e+v)\n",
    "# make each node parent of itself\n",
    "# connect every node in edges\n",
    "# always add to root parent\n",
    "# if root parent is the same, they are connected\n",
    "\n",
    "# number of provinces"
   ]
  },
  {
   "cell_type": "code",
   "execution_count": 2,
   "metadata": {},
   "outputs": [],
   "source": [
    "from typing import Optional\n",
    "from typing import List"
   ]
  },
  {
   "cell_type": "code",
   "execution_count": 3,
   "metadata": {},
   "outputs": [],
   "source": [
    "class UF:\n",
    "    def __init__(self):\n",
    "        self.f = {}\n",
    "\n",
    "    # simple version:\n",
    "    #\n",
    "    # if x != par(x)\n",
    "    # return find(par(x))\n",
    "    # else: return x\n",
    "\n",
    "    # path compression \n",
    "    # means to update par(x) to self.find(par(x))\n",
    "    # this flattens the tree\n",
    "\n",
    "    def find(self, x):\n",
    "        y = self.f.get(x, x)\n",
    "        if x != y:\n",
    "            y = self.f[x] = self.find(y)\n",
    "        return y\n",
    "\n",
    "    # set the root of one tree to the child of another\n",
    "    def union(self, x, y):\n",
    "       self.f[self.find(x)] = self.find(y)\n",
    "\n",
    "    def connected(self, x, y):\n",
    "        return self.find(x) == self.find(y)\n",
    "\n",
    "class Solution:\n",
    "    def findCircleNum(self, isConnected: List[List[int]]) -> int:\n",
    "        n = len(isConnected)\n",
    "        uf = UF()\n",
    "        \n",
    "        res = n\n",
    "        for i in range(n):\n",
    "            for j in range(i+1, n):\n",
    "                if (isConnected[i][j] == 1 and uf.find(i) != uf.find(j)):\n",
    "                    res -= 1\n",
    "                    uf.union(i, j)\n",
    "        \n",
    "        return res\n",
    "        "
   ]
  },
  {
   "cell_type": "code",
   "execution_count": null,
   "metadata": {},
   "outputs": [],
   "source": [
    "class Solution:\n",
    "    def ValidTree(self, n, edges):\n",
    "        uf = UF()\n",
    "\n",
    "        for u,v in edges:\n",
    "            if uf.connected(u, v):\n",
    "                return False\n",
    "            uf.union(u, v)\n",
    "    \n",
    "        "
   ]
  },
  {
   "cell_type": "markdown",
   "metadata": {},
   "source": []
  }
 ],
 "metadata": {
  "kernelspec": {
   "display_name": "torch",
   "language": "python",
   "name": "python3"
  },
  "language_info": {
   "codemirror_mode": {
    "name": "ipython",
    "version": 3
   },
   "file_extension": ".py",
   "mimetype": "text/x-python",
   "name": "python",
   "nbconvert_exporter": "python",
   "pygments_lexer": "ipython3",
   "version": "3.10.9"
  }
 },
 "nbformat": 4,
 "nbformat_minor": 2
}
