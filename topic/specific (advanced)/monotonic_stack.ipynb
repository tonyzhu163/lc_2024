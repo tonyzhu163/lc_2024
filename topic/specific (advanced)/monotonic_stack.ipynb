{
 "cells": [
  {
   "cell_type": "code",
   "execution_count": null,
   "metadata": {},
   "outputs": [],
   "source": [
    "\n",
    "\n",
    "\n",
    "class Solution:\n",
    "    def dailyTemperatures(self, temperatures: List[int]) -> List[int]:\n",
    "        n = len(temperatures)\n",
    "        res = [0] * n\n",
    "        \n",
    "        s = []\n",
    "        \n",
    "        for i in range(n-1, -1, -1):\n",
    "            # if the current temperature is greater than the top, we discard\n",
    "            while s and temperatures[s[-1]] <= temperatures[i]:\n",
    "                s.pop()\n",
    "\n",
    "            # this causes it to be 0, else we return the dif in index\n",
    "            res[i] = 0 if not s else s[-1] - i\n",
    "\n",
    "            # add the new index\n",
    "            s.append(i)\n",
    "            \n",
    "        return res\n",
    "            "
   ]
  },
  {
   "cell_type": "markdown",
   "metadata": {},
   "source": [
    "# monotonic stack\n",
    "\n",
    "# Basic: 496-Next Greater Element I and 1019-Next Greater Node In Linked List.\n",
    "# Dealing with circular list: 503-Next Greater Element II.\n",
    "# Variant: 042-Trapping Rain Water.\n",
    "# Variant: 084-Largest Rectangle in Histogram.\n",
    "\n",
    "# monotonic queue\n",
    "\n",
    "739 Daily Temperatures (Medium)\n",
    " \n",
    "1081  Smallest Subsequence of Distinct Characters (Medium)\n",
    "\n",
    "85 Maximal Rectangle (Hard)\n"
   ]
  },
  {
   "cell_type": "code",
   "execution_count": null,
   "metadata": {},
   "outputs": [],
   "source": [
    "# sliding window maximum\n",
    "\n",
    "from collections import deque\n",
    "\n",
    "class M_Queue:\n",
    "    def __init__(self):\n",
    "        self.nums = deque()\n",
    "    \n",
    "    def push(self, ele):\n",
    "        while len(self.nums) > 0 and self.nums[-1] < ele:\n",
    "            self.nums.pop()\n",
    "        self.nums.append(ele)\n",
    "    \n",
    "    def pop(self, ele):\n",
    "        if ele == self.nums[0]:\n",
    "            self.nums.popleft()\n",
    "    \n",
    "    def max(self):\n",
    "        return self.nums[0]\n",
    "\n",
    "class Solution:\n",
    "    def maxSlidingWindow(self, nums: List[int], k: int) -> List[int]:\n",
    "        win = M_Queue()\n",
    "        res = []\n",
    "        \n",
    "        for idx, i in enumerate(nums):\n",
    "            if idx < k - 1:\n",
    "                win.push(i)\n",
    "            else:\n",
    "                win.push(i)\n",
    "                res.append(win.max())\n",
    "                win.pop(nums[idx - k + 1])\n",
    "                \n",
    "        return res"
   ]
  }
 ],
 "metadata": {
  "language_info": {
   "name": "python"
  }
 },
 "nbformat": 4,
 "nbformat_minor": 2
}
