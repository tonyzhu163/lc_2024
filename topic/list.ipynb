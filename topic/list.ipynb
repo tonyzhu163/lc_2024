{
 "cells": [
  {
   "cell_type": "code",
   "execution_count": null,
   "metadata": {},
   "outputs": [],
   "source": [
    "class ListNode:\n",
    "    def __init__(self, val=0, next=None):\n",
    "        self.val = val\n",
    "        self.next = next"
   ]
  },
  {
   "cell_type": "code",
   "execution_count": null,
   "metadata": {},
   "outputs": [],
   "source": [
    "# slow and fast pointer\n",
    "# walk fast to n ahead of slow\n",
    "# walk both to the end\n",
    "# remove slow\n",
    "\n",
    "class Solution:\n",
    "    def removeNthFromEnd(self, head: Optional[ListNode], n: int) -> Optional[ListNode]:\n",
    "        lst = ListNode(-1)\n",
    "        lst.next = head\n",
    "        \n",
    "        slow = self.walk(lst, n+1)\n",
    "            \n",
    "        slow.next = slow.next.next\n",
    "        \n",
    "        return lst.next\n",
    "    \n",
    "    def walk(self, head, n):\n",
    "        slow = head\n",
    "        fast = head\n",
    "        \n",
    "        while n > 0:\n",
    "            fast = fast.next\n",
    "            n -= 1\n",
    "        \n",
    "        while fast != None:\n",
    "            slow = slow.next\n",
    "            fast = fast.next\n",
    "        \n",
    "        return slow\n",
    "        "
   ]
  }
 ],
 "metadata": {
  "language_info": {
   "name": "python"
  }
 },
 "nbformat": 4,
 "nbformat_minor": 2
}
