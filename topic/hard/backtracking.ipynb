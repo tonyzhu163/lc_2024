{
 "cells": [
  {
   "cell_type": "code",
   "execution_count": null,
   "metadata": {},
   "outputs": [],
   "source": [
    "from typing import Optional\n",
    "from typing import List"
   ]
  },
  {
   "cell_type": "code",
   "execution_count": null,
   "metadata": {},
   "outputs": [],
   "source": [
    "# result = []\n",
    "# def backtrack(path, list)\n",
    "#     if test:\n",
    "#         result.add(path)\n",
    "#         return\n",
    "    \n",
    "#     for choice in choices:\n",
    "#         make choice\n",
    "#         backtrack(path, list)\n",
    "#         revert choice"
   ]
  },
  {
   "cell_type": "code",
   "execution_count": null,
   "metadata": {},
   "outputs": [],
   "source": [
    "# Subsets\n",
    "\n",
    "def subsets(self, nums: List[int]) -> List[List[int]]:\n",
    "    res = []\n",
    "    track = []\n",
    "\n",
    "    def backtrack(i):\n",
    "        if i >= len(nums):\n",
    "            res.append(track.copy())\n",
    "            return\n",
    "        track.append(nums[i])\n",
    "        backtrack(i+1)\n",
    "        track.pop()\n",
    "        backtrack(i+1)\n",
    "    \n",
    "    backtrack(0)\n",
    "    return res"
   ]
  },
  {
   "cell_type": "code",
   "execution_count": null,
   "metadata": {},
   "outputs": [],
   "source": [
    "# Combination Sum\n",
    "\n",
    "def combinationSum(self, nums: List[int], target: int) -> List[List[int]]:\n",
    "    res = []\n",
    "    track = []\n",
    "    tempsum = 0\n",
    "    n = len(nums)\n",
    "\n",
    "    def search(start):\n",
    "        nonlocal tempsum\n",
    "        if tempsum == target:\n",
    "            res.append(track.copy())\n",
    "            return\n",
    "        \n",
    "        if tempsum > target:\n",
    "            return\n",
    "        \n",
    "        for i in range(start, n):\n",
    "            tempsum += nums[i]\n",
    "            track.append(nums[i])\n",
    "\n",
    "            search(i)\n",
    "\n",
    "            tempsum -= nums[i]\n",
    "            track.pop()\n",
    "    \n",
    "    search(0)\n",
    "    return res"
   ]
  },
  {
   "cell_type": "code",
   "execution_count": null,
   "metadata": {},
   "outputs": [],
   "source": [
    "# permutations\n",
    "\n",
    "def permute(self, nums: List[int]) -> List[List[int]]:\n",
    "    if len(nums) == 0:\n",
    "        return [[]]\n",
    "\n",
    "    # subproblem\n",
    "    rest = self.permute(nums[1:])\n",
    "\n",
    "    res = []\n",
    "\n",
    "    # add to all possible positions\n",
    "    for r in rest:\n",
    "        for i in range(len(r) + 1):\n",
    "            new = r.copy()\n",
    "            new.insert(i, nums[0])\n",
    "            res.append(new)\n",
    "\n",
    "    return res"
   ]
  }
 ],
 "metadata": {
  "language_info": {
   "name": "python"
  }
 },
 "nbformat": 4,
 "nbformat_minor": 2
}
