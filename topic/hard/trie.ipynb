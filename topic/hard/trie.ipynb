{
 "cells": [
  {
   "cell_type": "code",
   "execution_count": null,
   "metadata": {},
   "outputs": [],
   "source": [
    "# trie\n",
    "\n",
    "# aim is to check prefixes highly efficiently \n",
    "\n",
    "class TrieNode:\n",
    "    def __init__(self) -> None:\n",
    "        self.children = {}\n",
    "        self.end = False\n",
    "\n",
    "class PrefixTree:\n",
    "    def __init__(self):\n",
    "        self.root = TrieNode()\n",
    "\n",
    "    def insert(self, word: str) -> None:\n",
    "        cur = self.root\n",
    "\n",
    "        for char in word:\n",
    "            if char not in cur.children:\n",
    "                cur.children[char] = TrieNode()\n",
    "            cur = cur.children[char]\n",
    "\n",
    "        cur.end = True\n",
    "\n",
    "    def search(self, word: str) -> bool:\n",
    "        cur = self.root\n",
    "\n",
    "        for char in word:\n",
    "            if char not in cur.children:\n",
    "                return False\n",
    "            else:\n",
    "                cur = cur.children[char]\n",
    "        \n",
    "        if cur.end:\n",
    "            return True\n",
    "        else:\n",
    "            return False\n",
    "\n",
    "    def startsWith(self, prefix: str) -> bool:\n",
    "        cur = self.root\n",
    "\n",
    "        for char in prefix:\n",
    "            if char not in cur.children:\n",
    "                return False\n",
    "            else:\n",
    "                cur = cur.children[char]\n",
    "        \n",
    "        return True"
   ]
  }
 ],
 "metadata": {
  "language_info": {
   "name": "python"
  }
 },
 "nbformat": 4,
 "nbformat_minor": 2
}
