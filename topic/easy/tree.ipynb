{
 "cells": [
  {
   "cell_type": "code",
   "execution_count": null,
   "metadata": {},
   "outputs": [],
   "source": [
    "from typing import Optional"
   ]
  },
  {
   "cell_type": "code",
   "execution_count": null,
   "metadata": {},
   "outputs": [],
   "source": [
    "# data structures\n",
    "\n",
    "class TreeNode:\n",
    "    def __init__(self, val=0, left=None, right=None):\n",
    "        self.val = val\n",
    "        self.left = left\n",
    "        self.right = right"
   ]
  },
  {
   "cell_type": "code",
   "execution_count": null,
   "metadata": {},
   "outputs": [],
   "source": [
    "# diameter of a binary tree\n",
    "\n",
    "def diameterOfBinaryTree(self, root: Optional[TreeNode]) -> int:\n",
    "    res = [0]\n",
    "\n",
    "    def help(root):\n",
    "        if not root:\n",
    "            return 0\n",
    "        # go to the bottom\n",
    "        left = help(root.left)\n",
    "        right = help(root.right)\n",
    "        # remember diameter\n",
    "        res[0] = max(res[0], left + right)\n",
    "        # return depth\n",
    "        return 1 + max(left, right) \n",
    "\n",
    "    help(root)\n",
    "    \n",
    "    return res[0]"
   ]
  }
 ],
 "metadata": {
  "language_info": {
   "name": "python"
  }
 },
 "nbformat": 4,
 "nbformat_minor": 2
}
