{
 "cells": [
  {
   "cell_type": "code",
   "execution_count": null,
   "metadata": {},
   "outputs": [],
   "source": [
    "## Evaluate Reverse Polish Notation\n",
    "\n",
    "# just use a stack\n",
    "# rest is boiler plate\n",
    "\n",
    "class Solution:\n",
    "    def evalRPN(self, tokens: List[str]) -> int:\n",
    "        stack = []\n",
    "        \n",
    "        for e in tokens:\n",
    "            if e == '+':\n",
    "                x = stack.pop()\n",
    "                y = stack.pop()\n",
    "                stack.append(x+y)\n",
    "            elif e == '-':\n",
    "                x = stack.pop()\n",
    "                y = stack.pop()\n",
    "                stack.append(y-x)\n",
    "            elif e == '*':\n",
    "                x = stack.pop()\n",
    "                y = stack.pop()\n",
    "                stack.append(x*y)\n",
    "            elif e == '/':\n",
    "                x = stack.pop()\n",
    "                y = stack.pop()\n",
    "                stack.append(int(y/x))\n",
    "            else:\n",
    "                stack.append(int(e))\n",
    "        \n",
    "        return stack[0]"
   ]
  }
 ],
 "metadata": {
  "language_info": {
   "name": "python"
  }
 },
 "nbformat": 4,
 "nbformat_minor": 2
}
