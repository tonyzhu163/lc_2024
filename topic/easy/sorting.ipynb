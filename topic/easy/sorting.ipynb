{
 "cells": [
  {
   "cell_type": "code",
   "execution_count": 13,
   "metadata": {},
   "outputs": [],
   "source": [
    "# Need to know\n",
    "\n",
    "# O (n^2) O(1) space\n",
    "# Selection (bad)\n",
    "# Bubble (stable)\n",
    "# Insertion (stable)\n",
    "\n",
    "# O (nlogn)\n",
    "# Merge (O(n) space) (not stable)\n",
    "# Quick (expectation O(logn) space) (not stable)\n",
    "# Heap (O(1) space) (stable)\n",
    "\n",
    "# O(n) with requirements\n",
    "# Bucket (in some range [0, N-1])\n",
    "# Radix lexicographic\n",
    "# QuickSelect / Deterministic Select\n",
    "\n",
    "# Very small -> Insertion\n",
    "# Not stable and adjustable -> Quick\n",
    "# Stable but fast -> Merge\n",
    "# Not stable but O(1) space -> Heap"
   ]
  },
  {
   "cell_type": "code",
   "execution_count": 18,
   "metadata": {},
   "outputs": [
    {
     "name": "stdout",
     "output_type": "stream",
     "text": [
      "Sorted array is: [5, 6, 7, 11, 12, 13]\n"
     ]
    }
   ],
   "source": [
    "arr = [12, 11, 13, 5, 6, 7]\n",
    "\n",
    "# compare each item to the items of the left\n",
    "# insert each item into the correct position (swap at correct position)\n",
    "\n",
    "def InsertionSort(arr):\n",
    "    for i in range(len(arr)):\n",
    "        key = arr[i]\n",
    "        j = i-1\n",
    "    \n",
    "        while j >= 0 and key < arr[j]:\n",
    "            arr[j+1] = arr[j]\n",
    "            j = j-1\n",
    "        \n",
    "        arr[j+1] = key\n",
    "\n",
    "InsertionSort(arr)\n",
    "print(\"Sorted array is:\", arr)"
   ]
  },
  {
   "cell_type": "code",
   "execution_count": 23,
   "metadata": {},
   "outputs": [
    {
     "data": {
      "text/plain": [
       "[2, 3, 4]"
      ]
     },
     "execution_count": 23,
     "metadata": {},
     "output_type": "execute_result"
    }
   ],
   "source": [
    "list = [1, 2, 3, 4]\n",
    "\n",
    "list[1:]"
   ]
  },
  {
   "cell_type": "code",
   "execution_count": 29,
   "metadata": {},
   "outputs": [
    {
     "name": "stdout",
     "output_type": "stream",
     "text": [
      "Sorted array: [3, 9, 10, 27, 38, 43, 82]\n"
     ]
    }
   ],
   "source": [
    "# break into halfs, assign to copy (recursive)\n",
    "# only focus on merge function \n",
    "# -> which is basically same as merging two sorted linked lists\n",
    "\n",
    "def MergeSort(arr):\n",
    "    n = len(arr)\n",
    "\n",
    "    if n <= 1:\n",
    "        return arr\n",
    "\n",
    "    mid = n // 2\n",
    "\n",
    "    left = arr[:mid]\n",
    "    right = arr[mid:]\n",
    "    \n",
    "    left = MergeSort(left)\n",
    "    right = MergeSort(right)\n",
    "\n",
    "    return _merge(left, right)\n",
    "\n",
    "def _merge(left, right):\n",
    "    res = []\n",
    "    i = j = 0\n",
    "\n",
    "    while i < len(left) and j < len(right):\n",
    "        if left[i] <= right[j]:\n",
    "            res.append(left[i])\n",
    "            i += 1\n",
    "        else:\n",
    "            res.append(right[j])\n",
    "            j += 1\n",
    "    \n",
    "    res.extend(left[i:])\n",
    "    res.extend(right[j:])\n",
    "\n",
    "    return res\n",
    "\n",
    "arr = [38, 27, 43, 3, 9, 82, 10]\n",
    "sorted_arr = MergeSort(arr)\n",
    "print(\"Sorted array:\", sorted_arr)"
   ]
  },
  {
   "cell_type": "code",
   "execution_count": null,
   "metadata": {},
   "outputs": [],
   "source": [
    "def QuickSort(arr):\n",
    "    pass"
   ]
  },
  {
   "cell_type": "code",
   "execution_count": 19,
   "metadata": {},
   "outputs": [
    {
     "name": "stdout",
     "output_type": "stream",
     "text": [
      "Sorted array is: [5, 6, 7, 11, 12, 13]\n"
     ]
    }
   ],
   "source": [
    "import heapq\n",
    "\n",
    "# a heap is tree that satisfies key of parent >= key of children\n",
    "# can use an array where node i has children at 2i+1 2i+2\n",
    "\n",
    "#  procedure siftUp(a, end) is\n",
    "#      input: a is the array, which heap-ordered up to end-1.\n",
    "#             end is the node to sift up.\n",
    "#      while end > 0\n",
    "#          parent := iParent(end)\n",
    "#          if a[parent] < a[end] then (out of max-heap order)\n",
    "#              swap(a[parent], a[end])\n",
    "#              end := parent          (continue sifting up)\n",
    "#          else\n",
    "#              return\n",
    "    \n",
    "#  procedure heapify(a, count) is\n",
    "#      (start with a trivial single-element heap)\n",
    "#      end := 1\n",
    "     \n",
    "#      while end < count\n",
    "#          (sift up the node at index end to the proper place such that\n",
    "#           all nodes above the end index are in heap order)\n",
    "#          siftUp(a, end)\n",
    "#          end := end + 1\n",
    "#      (after sifting up the last node all nodes are in heap order)\n",
    "\n",
    "def HeapSort(arr):\n",
    "    heap = heapq.heapify(arr)\n",
    "    return [heapq.heappop(arr) for _ in range(len(arr))]\n",
    "\n",
    "arr = [12, 11, 13, 5, 6, 7]\n",
    "sorted_arr = HeapSort(arr)\n",
    "print(\"Sorted array is:\", sorted_arr)"
   ]
  },
  {
   "cell_type": "code",
   "execution_count": null,
   "metadata": {},
   "outputs": [],
   "source": []
  }
 ],
 "metadata": {
  "kernelspec": {
   "display_name": "torch",
   "language": "python",
   "name": "python3"
  },
  "language_info": {
   "codemirror_mode": {
    "name": "ipython",
    "version": 3
   },
   "file_extension": ".py",
   "mimetype": "text/x-python",
   "name": "python",
   "nbconvert_exporter": "python",
   "pygments_lexer": "ipython3",
   "version": "3.10.9"
  }
 },
 "nbformat": 4,
 "nbformat_minor": 2
}
