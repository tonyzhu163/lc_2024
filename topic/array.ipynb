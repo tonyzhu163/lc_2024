{
 "cells": [
  {
   "cell_type": "code",
   "execution_count": 1,
   "metadata": {},
   "outputs": [],
   "source": [
    "from typing import Optional\n",
    "from typing import List\n",
    "import sys"
   ]
  },
  {
   "cell_type": "code",
   "execution_count": null,
   "metadata": {},
   "outputs": [],
   "source": [
    "# median of two sorted arrays\n",
    "\n",
    "def findMedianSortedArrays(self, nums1: List[int], nums2: List[int]) -> float:\n",
    "    n, m = len(nums1), len(nums2)\n",
    "    \n",
    "    if n > m:\n",
    "        nums1, nums2 = nums2, nums1\n",
    "        n, m = m, n\n",
    "    \n",
    "    l, r = 0, n\n",
    "    \n",
    "    while l <= r:\n",
    "        i = (l + r) // 2\n",
    "        j = (n + m + 1) // 2 - i\n",
    "        \n",
    "        Aleft = nums1[i-1] if i > 0 else -sys.maxsize\n",
    "        Aright = nums1[i] if i < n else sys.maxsize\n",
    "        Bleft = nums2[j-1] if j > 0 else -sys.maxsize\n",
    "        Bright = nums2[j] if j < m else sys.maxsize\n",
    "        \n",
    "        if Aleft <= Bright and Bleft <= Aright:\n",
    "            if (n + m) % 2 == 0:\n",
    "                return (max(Aleft, Bleft) + min(Aright, Bright)) / 2.0\n",
    "            else:\n",
    "                return max(Aleft, Bleft)\n",
    "        elif Aleft > Bright:\n",
    "            r = i - 1\n",
    "        else:\n",
    "                l = i + 1"
   ]
  }
 ],
 "metadata": {
  "kernelspec": {
   "display_name": "Python 3",
   "language": "python",
   "name": "python3"
  },
  "language_info": {
   "codemirror_mode": {
    "name": "ipython",
    "version": 3
   },
   "file_extension": ".py",
   "mimetype": "text/x-python",
   "name": "python",
   "nbconvert_exporter": "python",
   "pygments_lexer": "ipython3",
   "version": "3.9.6"
  }
 },
 "nbformat": 4,
 "nbformat_minor": 2
}
